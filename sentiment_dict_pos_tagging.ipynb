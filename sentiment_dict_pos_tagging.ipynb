{
 "cells": [
  {
   "cell_type": "markdown",
   "id": "4cf17c2b",
   "metadata": {},
   "source": [
    "# *sentiment dict*"
   ]
  },
  {
   "cell_type": "code",
   "execution_count": 1,
   "id": "82e86262",
   "metadata": {},
   "outputs": [],
   "source": [
    "from konlpy.tag import Mecab, Okt"
   ]
  },
  {
   "cell_type": "code",
   "execution_count": 2,
   "id": "b7f1ad44",
   "metadata": {},
   "outputs": [],
   "source": [
    "okt = Okt()\n",
    "m = Mecab(\"/usr/local/lib/mecab/dic/mecab-ko-dic\")"
   ]
  },
  {
   "cell_type": "code",
   "execution_count": 3,
   "id": "c6d627c8",
   "metadata": {},
   "outputs": [],
   "source": [
    "# http://dilab.kunsan.ac.kr/knusl.html\n",
    "# KNU 한국어 감성사전\n",
    "with open(\"./data/pos_dict.txt\", \"r\") as f:\n",
    "    pos_dict = []\n",
    "    for readline in f: \n",
    "        line_strip = readline.strip()\n",
    "        pos_dict.append(str(line_strip))\n",
    "\n",
    "with open(\"./data/neg_dict.txt\", \"r\") as f:\n",
    "    neg_dict = []\n",
    "    for readline in f: \n",
    "        line_strip = readline.strip()\n",
    "        neg_dict.append(str(line_strip))"
   ]
  },
  {
   "cell_type": "markdown",
   "id": "6f6c24f3",
   "metadata": {},
   "source": [
    "## *원본 사전 중복 제거*"
   ]
  },
  {
   "cell_type": "code",
   "execution_count": 4,
   "id": "a585f568",
   "metadata": {},
   "outputs": [],
   "source": [
    "if '끝' in pos_dict:\n",
    "    print(\"pos find\")\n",
    "    \n",
    "if '고민' in neg_dict:\n",
    "    print(\"neg find\")"
   ]
  },
  {
   "cell_type": "code",
   "execution_count": 6,
   "id": "c4f0cd6c",
   "metadata": {},
   "outputs": [],
   "source": [
    "# 중복 제거\n",
    "pos_word = sorted(list(set(pos_dict)))\n",
    "neg_word = sorted(list(set(neg_dict)))"
   ]
  },
  {
   "cell_type": "code",
   "execution_count": 7,
   "id": "bd1c4f0b",
   "metadata": {},
   "outputs": [],
   "source": [
    "with open(\"./data/pos_dict.txt\", \"w\") as f:\n",
    "    for i in pos_word:\n",
    "        f.write(i + \"\\n\")\n",
    "with open(\"./data/neg_dict.txt\", \"w\") as f:\n",
    "    for i in neg_word:\n",
    "        f.write(i + \"\\n\")"
   ]
  },
  {
   "cell_type": "markdown",
   "id": "cdc6b8c9",
   "metadata": {},
   "source": [
    "## *품사 태깅 사전*"
   ]
  },
  {
   "cell_type": "code",
   "execution_count": 8,
   "id": "f8d3a28a",
   "metadata": {},
   "outputs": [],
   "source": [
    "# http://dilab.kunsan.ac.kr/knusl.html\n",
    "# KNU 한국어 감성사전\n",
    "with open(\"./data/pos_dict.txt\", \"r\") as f:\n",
    "    pos_dict = []\n",
    "    for readline in f: \n",
    "        line_strip = readline.strip()\n",
    "        pos_dict.append(str(line_strip))\n",
    "\n",
    "with open(\"./data/neg_dict.txt\", \"r\") as f:\n",
    "    neg_dict = []\n",
    "    for readline in f: \n",
    "        line_strip = readline.strip()\n",
    "        neg_dict.append(str(line_strip))"
   ]
  },
  {
   "cell_type": "code",
   "execution_count": 9,
   "id": "791a0029",
   "metadata": {},
   "outputs": [],
   "source": [
    "# 단어 mecab 형태소 분석\n",
    "# 처음 한번 처리\n",
    "pos_tag_dict = []\n",
    "for i in pos_dict:\n",
    "    tag = m.pos(i)\n",
    "    # 'VCP' 긍정 지정사, 'VCN' 부정 지정사, 'MM' 관형사 부사, 'MAJ' 접속 부사, 'IC' 감탄사, 'JK' 조사, 'JX' 보조사, 'JC' 접속 조사, 'JKS' 주격 조사, 'JKC' 보격 조사, 'JKG' 관형격 조사, 'JKO' 목적격 조사, 'JKB' 부사격 조사, 'JKV' 호격 조사, 'JKQ' 인용격 조사\n",
    "    value_list = [i[0] + \"/\" + i[1] for i in tag if i[1] not in ['VCP', 'VCN', 'MM', 'MAJ', 'IC', 'JK', 'JX', 'JC', 'JKS', 'JKC', 'JKG', 'JKO', 'JKB', 'JKV', 'JKQ']]\n",
    "\n",
    "    if value_list:\n",
    "        pos_tag_dict.append(\" \".join(value_list))\n",
    "    \n",
    "neg_tag_dict = []\n",
    "for i in neg_dict:\n",
    "    tag = m.pos(i)\n",
    "    value_list = [i[0] + \"/\" + i[1] for i in tag if i[1] not in ['VCP', 'VCN', 'MM', 'MAJ', 'IC', 'JK', 'JX', 'JC', 'JKS', 'JKC', 'JKG', 'JKO', 'JKB', 'JKV', 'JKQ']]\n",
    "\n",
    "    if value_list:\n",
    "        neg_tag_dict.append(\" \".join(value_list))"
   ]
  },
  {
   "cell_type": "code",
   "execution_count": 10,
   "id": "84922dd2",
   "metadata": {},
   "outputs": [
    {
     "name": "stdout",
     "output_type": "stream",
     "text": [
      "2873\n",
      "5680\n",
      "['갚/VV 다/EC', '개선/NNG', '개선/NNG 방도/NNG', '개선/NNG 하/XSV 고/EC', '개선/NNG 하/XSV 다/EC', '개선/NNG 함/XSV+ETN', '개성/NNG', '개성/NNG 있/VV 는/ETM', '개성/NNG 있/VV 다/EC', '개운/XR 하/XSA 게/EC', '개운/XR 하/XSA 고/EC', '개운/XR 하/XSA 다/EC', '갸륵/XR 하/XSA 다/EC', '갸륵/XR 한/XSA+ETM', '갸름/XR 하/XSA 다/EC', '거듭/MAG 함/VV+EC', '거뜬/XR', '거뜬/XR 하/XSA 다/EC', '거룩/XR 하/XSA 다/EC', '거룩/XR 한/XSA+ETM']\n",
      "['가격/NNG 상승/NNG', '가격/NNG 인상/NNG', '가꾸/VV 러/EC 뜨리/VV 다/EC', '가꾸/VV 러/EC 트/VV 리다/EC', '가난/NNG', '가난뱅이/NNG', '가난살이/NNG', '가난/NNG 설음/NNG', '가난/NNG', '가난/NNG 하/XSA 게/EC', '가난/NNG 하/XSA 고/EC', '가난/NNG 하/XSA 다/EC', '가난/NNG 하/XSA 여/EC', '가난/NNG 한/XSA+ETM', '가난히/MAG', '가년/XR 스럽/XSA 다/EC', '가/VV+EC 념/UNKNOWN 하/VV 다/EC', '가녕/NNP 스럽/XSA 다/EC', '가닐가닐/MAG 하/VV 다/EC', '가당찮/VA 다/EC']\n"
     ]
    }
   ],
   "source": [
    "print(len(pos_tag_dict))\n",
    "print(len(neg_tag_dict))\n",
    "\n",
    "print(pos_tag_dict[110:130])\n",
    "print(neg_tag_dict[:20])"
   ]
  },
  {
   "cell_type": "code",
   "execution_count": 11,
   "id": "ee7566cc",
   "metadata": {},
   "outputs": [
    {
     "name": "stdout",
     "output_type": "stream",
     "text": [
      "[('타', 'MM'), ('륵', 'NNG')]\n"
     ]
    }
   ],
   "source": [
    "print(m.pos('타륵'))"
   ]
  },
  {
   "cell_type": "code",
   "execution_count": 12,
   "id": "4c93ff31",
   "metadata": {},
   "outputs": [],
   "source": [
    "# 중복 제거\n",
    "pos_new_list = sorted(list(set(pos_tag_dict)))\n",
    "neg_new_list = sorted(list(set(neg_tag_dict)))"
   ]
  },
  {
   "cell_type": "code",
   "execution_count": 13,
   "id": "88cebe7f",
   "metadata": {},
   "outputs": [
    {
     "name": "stdout",
     "output_type": "stream",
     "text": [
      "2787\n",
      "5329\n",
      "['가격/NNG 싸/VA 다/EC', '가까이/MAG 사귀/VV 어/EC', '가까이/MAG 하/VV 다/EC', '가깝/VA 게/EC', '가깝/VA 다/EC', '가능/NNG 성/XSN', '가능/NNG 성/XSN 늘어나/VV 다/EC', '가능/NNG 성/XSN 있/VV 다고/EC', '가능/NNG 하/XSA 다/EC', '가다듬/VV 고/EC', '가다듬/VV 다/EC', '가다듬/VV 어/EC', '가당히/MAG', '가뜬/XR 하/XSA 게/EC', '가라앉/VV 히다/EC', '가라앉혀/VV+EC', '가라앉히/VV 고/EC', '가르치/VV 다/EC', '가르치/VV 며/EC', '가르침/NNG']\n",
      "['가/VV+EC 념/UNKNOWN 하/VV 다/EC', '가격/NNG 상승/NNG', '가격/NNG 인상/NNG', '가꾸/VV 러/EC 뜨리/VV 다/EC', '가꾸/VV 러/EC 트/VV 리다/EC', '가난/NNG', '가난/NNG 설음/NNG', '가난/NNG 하/XSA 게/EC', '가난/NNG 하/XSA 고/EC', '가난/NNG 하/XSA 다/EC', '가난/NNG 하/XSA 여/EC', '가난/NNG 한/XSA+ETM', '가난뱅이/NNG', '가난살이/NNG', '가난히/MAG', '가년/XR 스럽/XSA 다/EC', '가녕/NNP 스럽/XSA 다/EC', '가닐가닐/MAG 하/VV 다/EC', '가당찮/VA 다/EC', '가당찮이/MAG']\n"
     ]
    }
   ],
   "source": [
    "print(len(pos_new_list))\n",
    "print(len(neg_new_list))\n",
    "\n",
    "print(pos_new_list[:20])\n",
    "print(neg_new_list[:20])"
   ]
  },
  {
   "cell_type": "code",
   "execution_count": 14,
   "id": "cbf96f8a",
   "metadata": {},
   "outputs": [],
   "source": [
    "# delete & resave\n",
    "!rm /mnt/nas_storage3/shpark/news_sentiment/data/pos_tag_dict.txt\n",
    "!rm /mnt/nas_storage3/shpark/news_sentiment/data/neg_tag_dict.txt\n",
    "\n",
    "\n",
    "with open(\"./data/pos_tag_dict.txt\", \"w\") as f:\n",
    "    for i in pos_new_list:\n",
    "        f.write(i + \"\\n\")\n",
    "with open(\"./data/neg_tag_dict.txt\", \"w\") as f:\n",
    "    for i in neg_new_list:\n",
    "        f.write(i + \"\\n\")"
   ]
  }
 ],
 "metadata": {
  "kernelspec": {
   "display_name": "Python 3",
   "language": "python",
   "name": "python3"
  },
  "language_info": {
   "codemirror_mode": {
    "name": "ipython",
    "version": 3
   },
   "file_extension": ".py",
   "mimetype": "text/x-python",
   "name": "python",
   "nbconvert_exporter": "python",
   "pygments_lexer": "ipython3",
   "version": "3.8.10"
  }
 },
 "nbformat": 4,
 "nbformat_minor": 5
}
